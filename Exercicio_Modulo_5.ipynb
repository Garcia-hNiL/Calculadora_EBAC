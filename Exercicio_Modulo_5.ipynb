{
  "nbformat": 4,
  "nbformat_minor": 0,
  "metadata": {
    "colab": {
      "provenance": []
    },
    "kernelspec": {
      "name": "python3",
      "display_name": "Python 3"
    },
    "language_info": {
      "name": "python"
    }
  },
  "cells": [
    {
      "cell_type": "code",
      "execution_count": null,
      "metadata": {
        "id": "ozA3sKAfb5-t"
      },
      "outputs": [],
      "source": [
        "#Início da função\n",
        "def calculadora():\n",
        "\n",
        "    #Boas vindas\n",
        "    print(\"Bem-vindo à Calculadora!\")\n",
        "\n",
        "    while True:\n",
        "\n",
        "        #Opções do usuário\n",
        "        print(\"\\nEscolha uma opção:\")\n",
        "        print(\"1. Adição\")\n",
        "        print(\"2. Subtração\")\n",
        "        print(\"3. Multiplicação\")\n",
        "        print(\"4. Divisão\")\n",
        "        print(\"5. Sair\")\n",
        "        operacao = input(\"\\nQual a opção desejada? \")\n",
        "\n",
        "        if operacao == \"5\":\n",
        "            print(\"\\nCalculadora Finalizada!\")\n",
        "            break\n",
        "\n",
        "        #Solicita dois números ao usuário somente se uma das operações matemáticas for selecionada\n",
        "        if operacao in [\"1\", \"2\", \"3\", \"4\"]:\n",
        "            num1 = float(input(\"\\nQual o primeiro número? \"))\n",
        "            num2 = float(input(\"\\nQual o segundo número? \"))\n",
        "\n",
        "            #Executa a operação matemática conforme escolha do usuário\n",
        "            if operacao == \"1\":\n",
        "                resultado = num1+num2\n",
        "                print(f\"\\n{num1} mais {num2} é igual a {resultado}\")\n",
        "\n",
        "            elif operacao == \"2\":\n",
        "                resultado = num1-num2\n",
        "                print(f\"\\n{num1} - {num2} é igual a {resultado}\")\n",
        "\n",
        "            elif operacao == \"3\":\n",
        "                resultado = num1*num2\n",
        "                print(f\"\\n{num1} vezes {num2} é igual a {resultado}\")\n",
        "\n",
        "            elif operacao == \"4\":\n",
        "                if num2 == 0:\n",
        "                    print(\"\\nNão é possível dividir por zero!\")\n",
        "                else:\n",
        "                    resultado = num1/num2\n",
        "                    print(f\"\\n{num1} dividido por {num2} é igual a {resultado}\")\n",
        "        else:\n",
        "            print(\"Opção não disponível. Por favor, tente novamente.\")\n",
        "\n",
        "#Chama a função\n",
        "calculadora()"
      ]
    }
  ]
}